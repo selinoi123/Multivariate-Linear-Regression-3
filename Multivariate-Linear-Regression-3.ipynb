{
 "cells": [
  {
   "cell_type": "code",
   "execution_count": 9,
   "id": "f62f8b1a",
   "metadata": {},
   "outputs": [],
   "source": [
    "import numpy as np\n",
    "from sklearn.linear_model import LinearRegression\n",
    "import pandas as pd"
   ]
  },
  {
   "cell_type": "code",
   "execution_count": 10,
   "id": "8e92a948",
   "metadata": {},
   "outputs": [
    {
     "name": "stdout",
     "output_type": "stream",
     "text": [
      "Intercept (β₀): 1.72\n",
      "Coefficients (β₁, β₂, β₃, β₄): [1.97320904 0.11806371 0.20019818 2.57642763]\n",
      "The prediction equation :\n",
      "y = 1.72 + 1.97*experience + 0.12*education + 0.20*business hours+ 2.58*Management\n",
      "Expected salary for a new employee :29.21 k\n",
      "\n",
      "Variable influence (by coefficient magnitude):\n",
      "     Variable  Coefficient\n",
      "3  Management     2.576428\n",
      "0  Experience     1.973209\n",
      "2  Work Hours     0.200198\n",
      "1   Education     0.118064\n"
     ]
    }
   ],
   "source": [
    "X = np.array([\n",
    "    [2, 15, 40, 0],\n",
    "    [5, 16, 45, 1],\n",
    "    [3, 16, 40, 0],\n",
    "    [10,18, 50, 5],\n",
    "    [7, 17, 45, 3],\n",
    "    [1, 14, 35, 0],\n",
    "    [8, 16, 45, 4],\n",
    "    [4, 15, 40, 1],\n",
    "    [6, 15, 42, 2],\n",
    "    [12,19, 55, 8]\n",
    "])\n",
    "y = np.array([15, 25, 18, 45, 35, 12, 38, 22, 30, 60])\n",
    "\n",
    "model = LinearRegression()\n",
    "model.fit(X, y)\n",
    "\n",
    "print(f\"Intercept (β₀): {model.intercept_:.2f}\")\n",
    "print(f\"Coefficients (β₁, β₂, β₃, β₄): {model.coef_}\")\n",
    "\n",
    "equation = f\"y = {model.intercept_:.2f} + {model.coef_[0]:.2f}*experience + {model.coef_[1]:.2f}*education + {model.coef_[2]:.2f}*business hours+ {model.coef_[3]:.2f}*Management\"\n",
    " \n",
    "print(\"The prediction equation :\")\n",
    "print(equation)\n",
    "\n",
    "new_employee = np.array([[6, 16, 43, 2]])\n",
    "predicted_salary = float(model.predict(new_employee))\n",
    "\n",
    "print(f\"Expected salary for a new employee :{predicted_salary:.2f} k\")\n",
    "\n",
    "influence = pd.DataFrame({\n",
    "    \"Variable\": [\"Experience\", \"Education\", \"Work Hours\", \"Management\"],\n",
    "    \"Coefficient\": model.coef_\n",
    "}).sort_values(by=\"Coefficient\", ascending=False)\n",
    "\n",
    "print(\"\\nVariable influence (by coefficient magnitude):\")\n",
    "print(influence)\n",
    "\n",
    "# המשתנים המשפיעים ביותר על המשכורת הם ניסיון ניהולי ושנות ניסיון רגילות והגעתי למסקנה זו על בסיס גודל המקדמים\n",
    "# ככל שהמקדם גבוה יותר, שינוי יחידה אחת במשתנה משנה יותר את המשכורת\n",
    "\n"
   ]
  },
  {
   "cell_type": "code",
   "execution_count": null,
   "id": "55f0fc83",
   "metadata": {},
   "outputs": [],
   "source": []
  }
 ],
 "metadata": {
  "kernelspec": {
   "display_name": "Python 3 (ipykernel)",
   "language": "python",
   "name": "python3"
  },
  "language_info": {
   "codemirror_mode": {
    "name": "ipython",
    "version": 3
   },
   "file_extension": ".py",
   "mimetype": "text/x-python",
   "name": "python",
   "nbconvert_exporter": "python",
   "pygments_lexer": "ipython3",
   "version": "3.11.5"
  }
 },
 "nbformat": 4,
 "nbformat_minor": 5
}
